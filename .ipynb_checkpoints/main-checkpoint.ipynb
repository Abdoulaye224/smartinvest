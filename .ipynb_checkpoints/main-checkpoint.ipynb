{
 "cells": [
  {
   "cell_type": "code",
   "execution_count": 1,
   "id": "3fbc0995",
   "metadata": {},
   "outputs": [],
   "source": [
    "import pandas as pd\n",
    "import numpy as np\n",
    "import matplotlib.pyplot as plt\n",
    "from sklearn.preprocessing import MinMaxScaler\n",
    "import math as math"
   ]
  },
  {
   "cell_type": "code",
   "execution_count": 2,
   "id": "6cfa77f7",
   "metadata": {},
   "outputs": [],
   "source": [
    "from tensorflow.keras.models import Sequential\n",
    "from tensorflow.keras.layers import Dense\n",
    "from tensorflow.keras.layers import LSTM, GRU\n",
    "from tensorflow.keras.layers import Dropout\n",
    "from tensorflow.keras.layers import *"
   ]
  },
  {
   "cell_type": "code",
   "execution_count": 3,
   "id": "143690a7",
   "metadata": {
    "scrolled": false
   },
   "outputs": [],
   "source": [
    "from sklearn.metrics import mean_squared_error\n",
    "from sklearn.metrics import mean_absolute_error\n",
    "from sklearn.model_selection import train_test_split\n",
    "from keras.callbacks import EarlyStopping\n",
    "from sklearn.metrics import r2_score\n",
    "from sklearn.ensemble import AdaBoostRegressor, RandomForestRegressor, GradientBoostingRegressor\n",
    "from joblib import parallel_backend\n",
    "\n",
    "from time import time\n",
    "from tensorflow.keras.callbacks import TensorBoard\n",
    "#import warnings\n",
    "#warnings.filterwarnings('ignore')"
   ]
  },
  {
   "cell_type": "code",
   "execution_count": 4,
   "id": "4db720ad",
   "metadata": {},
   "outputs": [],
   "source": [
    "from datetime import datetime"
   ]
  },
  {
   "cell_type": "code",
   "execution_count": 5,
   "id": "9b4c5d8f",
   "metadata": {},
   "outputs": [],
   "source": [
    "from datetime import timedelta"
   ]
  },
  {
   "cell_type": "code",
   "execution_count": 6,
   "id": "dc2b04d4",
   "metadata": {},
   "outputs": [],
   "source": [
    "import yfinance as yf"
   ]
  },
  {
   "cell_type": "code",
   "execution_count": 7,
   "id": "16442356",
   "metadata": {},
   "outputs": [],
   "source": [
    "from ipywidgets import interact, widgets"
   ]
  },
  {
   "cell_type": "code",
   "execution_count": 8,
   "id": "7e149d44",
   "metadata": {},
   "outputs": [],
   "source": [
    "from sklearn.metrics import mean_squared_error, r2_score"
   ]
  },
  {
   "cell_type": "markdown",
   "id": "c49f0d70",
   "metadata": {},
   "source": [
    "## Data loading"
   ]
  },
  {
   "cell_type": "code",
   "execution_count": 9,
   "id": "934861ac",
   "metadata": {},
   "outputs": [],
   "source": [
    "sp500 = yf.Ticker(\"^GSPC\")"
   ]
  },
  {
   "cell_type": "code",
   "execution_count": 10,
   "id": "402344a0",
   "metadata": {},
   "outputs": [],
   "source": [
    "sp500 = sp500.history(period=\"max\")"
   ]
  },
  {
   "cell_type": "code",
   "execution_count": 11,
   "id": "c30e8159",
   "metadata": {
    "scrolled": false
   },
   "outputs": [
    {
     "data": {
      "text/html": [
       "<div>\n",
       "<style scoped>\n",
       "    .dataframe tbody tr th:only-of-type {\n",
       "        vertical-align: middle;\n",
       "    }\n",
       "\n",
       "    .dataframe tbody tr th {\n",
       "        vertical-align: top;\n",
       "    }\n",
       "\n",
       "    .dataframe thead th {\n",
       "        text-align: right;\n",
       "    }\n",
       "</style>\n",
       "<table border=\"1\" class=\"dataframe\">\n",
       "  <thead>\n",
       "    <tr style=\"text-align: right;\">\n",
       "      <th></th>\n",
       "      <th>Open</th>\n",
       "      <th>High</th>\n",
       "      <th>Low</th>\n",
       "      <th>Close</th>\n",
       "      <th>Volume</th>\n",
       "      <th>Dividends</th>\n",
       "      <th>Stock Splits</th>\n",
       "    </tr>\n",
       "    <tr>\n",
       "      <th>Date</th>\n",
       "      <th></th>\n",
       "      <th></th>\n",
       "      <th></th>\n",
       "      <th></th>\n",
       "      <th></th>\n",
       "      <th></th>\n",
       "      <th></th>\n",
       "    </tr>\n",
       "  </thead>\n",
       "  <tbody>\n",
       "    <tr>\n",
       "      <th>1950-01-03</th>\n",
       "      <td>16.660000</td>\n",
       "      <td>16.660000</td>\n",
       "      <td>16.660000</td>\n",
       "      <td>16.660000</td>\n",
       "      <td>1260000</td>\n",
       "      <td>0</td>\n",
       "      <td>0</td>\n",
       "    </tr>\n",
       "    <tr>\n",
       "      <th>1950-01-04</th>\n",
       "      <td>16.850000</td>\n",
       "      <td>16.850000</td>\n",
       "      <td>16.850000</td>\n",
       "      <td>16.850000</td>\n",
       "      <td>1890000</td>\n",
       "      <td>0</td>\n",
       "      <td>0</td>\n",
       "    </tr>\n",
       "    <tr>\n",
       "      <th>1950-01-05</th>\n",
       "      <td>16.930000</td>\n",
       "      <td>16.930000</td>\n",
       "      <td>16.930000</td>\n",
       "      <td>16.930000</td>\n",
       "      <td>2550000</td>\n",
       "      <td>0</td>\n",
       "      <td>0</td>\n",
       "    </tr>\n",
       "    <tr>\n",
       "      <th>1950-01-06</th>\n",
       "      <td>16.980000</td>\n",
       "      <td>16.980000</td>\n",
       "      <td>16.980000</td>\n",
       "      <td>16.980000</td>\n",
       "      <td>2010000</td>\n",
       "      <td>0</td>\n",
       "      <td>0</td>\n",
       "    </tr>\n",
       "    <tr>\n",
       "      <th>1950-01-09</th>\n",
       "      <td>17.080000</td>\n",
       "      <td>17.080000</td>\n",
       "      <td>17.080000</td>\n",
       "      <td>17.080000</td>\n",
       "      <td>2520000</td>\n",
       "      <td>0</td>\n",
       "      <td>0</td>\n",
       "    </tr>\n",
       "    <tr>\n",
       "      <th>...</th>\n",
       "      <td>...</td>\n",
       "      <td>...</td>\n",
       "      <td>...</td>\n",
       "      <td>...</td>\n",
       "      <td>...</td>\n",
       "      <td>...</td>\n",
       "      <td>...</td>\n",
       "    </tr>\n",
       "    <tr>\n",
       "      <th>2023-08-21</th>\n",
       "      <td>4380.279785</td>\n",
       "      <td>4407.549805</td>\n",
       "      <td>4360.299805</td>\n",
       "      <td>4399.770020</td>\n",
       "      <td>3726850000</td>\n",
       "      <td>0</td>\n",
       "      <td>0</td>\n",
       "    </tr>\n",
       "    <tr>\n",
       "      <th>2023-08-22</th>\n",
       "      <td>4415.330078</td>\n",
       "      <td>4418.589844</td>\n",
       "      <td>4382.770020</td>\n",
       "      <td>4387.549805</td>\n",
       "      <td>3522760000</td>\n",
       "      <td>0</td>\n",
       "      <td>0</td>\n",
       "    </tr>\n",
       "    <tr>\n",
       "      <th>2023-08-23</th>\n",
       "      <td>4396.439941</td>\n",
       "      <td>4443.180176</td>\n",
       "      <td>4396.439941</td>\n",
       "      <td>4436.009766</td>\n",
       "      <td>3837270000</td>\n",
       "      <td>0</td>\n",
       "      <td>0</td>\n",
       "    </tr>\n",
       "    <tr>\n",
       "      <th>2023-08-24</th>\n",
       "      <td>4455.160156</td>\n",
       "      <td>4458.299805</td>\n",
       "      <td>4375.549805</td>\n",
       "      <td>4376.310059</td>\n",
       "      <td>3723470000</td>\n",
       "      <td>0</td>\n",
       "      <td>0</td>\n",
       "    </tr>\n",
       "    <tr>\n",
       "      <th>2023-08-25</th>\n",
       "      <td>4389.379883</td>\n",
       "      <td>4418.459961</td>\n",
       "      <td>4356.290039</td>\n",
       "      <td>4405.709961</td>\n",
       "      <td>3296180000</td>\n",
       "      <td>0</td>\n",
       "      <td>0</td>\n",
       "    </tr>\n",
       "  </tbody>\n",
       "</table>\n",
       "<p>18532 rows × 7 columns</p>\n",
       "</div>"
      ],
      "text/plain": [
       "                   Open         High          Low        Close      Volume  \\\n",
       "Date                                                                         \n",
       "1950-01-03    16.660000    16.660000    16.660000    16.660000     1260000   \n",
       "1950-01-04    16.850000    16.850000    16.850000    16.850000     1890000   \n",
       "1950-01-05    16.930000    16.930000    16.930000    16.930000     2550000   \n",
       "1950-01-06    16.980000    16.980000    16.980000    16.980000     2010000   \n",
       "1950-01-09    17.080000    17.080000    17.080000    17.080000     2520000   \n",
       "...                 ...          ...          ...          ...         ...   \n",
       "2023-08-21  4380.279785  4407.549805  4360.299805  4399.770020  3726850000   \n",
       "2023-08-22  4415.330078  4418.589844  4382.770020  4387.549805  3522760000   \n",
       "2023-08-23  4396.439941  4443.180176  4396.439941  4436.009766  3837270000   \n",
       "2023-08-24  4455.160156  4458.299805  4375.549805  4376.310059  3723470000   \n",
       "2023-08-25  4389.379883  4418.459961  4356.290039  4405.709961  3296180000   \n",
       "\n",
       "            Dividends  Stock Splits  \n",
       "Date                                 \n",
       "1950-01-03          0             0  \n",
       "1950-01-04          0             0  \n",
       "1950-01-05          0             0  \n",
       "1950-01-06          0             0  \n",
       "1950-01-09          0             0  \n",
       "...               ...           ...  \n",
       "2023-08-21          0             0  \n",
       "2023-08-22          0             0  \n",
       "2023-08-23          0             0  \n",
       "2023-08-24          0             0  \n",
       "2023-08-25          0             0  \n",
       "\n",
       "[18532 rows x 7 columns]"
      ]
     },
     "execution_count": 11,
     "metadata": {},
     "output_type": "execute_result"
    }
   ],
   "source": [
    "sp500"
   ]
  },
  {
   "cell_type": "markdown",
   "id": "6d72a4fc",
   "metadata": {},
   "source": [
    "## Cleaning and preparation"
   ]
  },
  {
   "cell_type": "code",
   "execution_count": 12,
   "id": "ee5fe0ad",
   "metadata": {},
   "outputs": [],
   "source": [
    "#on supprimes les colonnes Dividends et stock splits\n",
    "del sp500[\"Dividends\"]\n",
    "del sp500[\"Stock Splits\"]"
   ]
  },
  {
   "cell_type": "code",
   "execution_count": 13,
   "id": "640483e4",
   "metadata": {},
   "outputs": [],
   "source": [
    "#on garde que les données après janvier 1990\n",
    "sp500 = sp500.loc[\"1990-01-01\":].copy()"
   ]
  },
  {
   "cell_type": "code",
   "execution_count": 14,
   "id": "2ae7d054",
   "metadata": {
    "scrolled": false
   },
   "outputs": [
    {
     "data": {
      "text/html": [
       "<div>\n",
       "<style scoped>\n",
       "    .dataframe tbody tr th:only-of-type {\n",
       "        vertical-align: middle;\n",
       "    }\n",
       "\n",
       "    .dataframe tbody tr th {\n",
       "        vertical-align: top;\n",
       "    }\n",
       "\n",
       "    .dataframe thead th {\n",
       "        text-align: right;\n",
       "    }\n",
       "</style>\n",
       "<table border=\"1\" class=\"dataframe\">\n",
       "  <thead>\n",
       "    <tr style=\"text-align: right;\">\n",
       "      <th></th>\n",
       "      <th>Open</th>\n",
       "      <th>High</th>\n",
       "      <th>Low</th>\n",
       "      <th>Close</th>\n",
       "      <th>Volume</th>\n",
       "    </tr>\n",
       "    <tr>\n",
       "      <th>Date</th>\n",
       "      <th></th>\n",
       "      <th></th>\n",
       "      <th></th>\n",
       "      <th></th>\n",
       "      <th></th>\n",
       "    </tr>\n",
       "  </thead>\n",
       "  <tbody>\n",
       "    <tr>\n",
       "      <th>1990-01-02</th>\n",
       "      <td>353.399994</td>\n",
       "      <td>359.690002</td>\n",
       "      <td>351.980011</td>\n",
       "      <td>359.690002</td>\n",
       "      <td>162070000</td>\n",
       "    </tr>\n",
       "    <tr>\n",
       "      <th>1990-01-03</th>\n",
       "      <td>359.690002</td>\n",
       "      <td>360.589996</td>\n",
       "      <td>357.890015</td>\n",
       "      <td>358.760010</td>\n",
       "      <td>192330000</td>\n",
       "    </tr>\n",
       "    <tr>\n",
       "      <th>1990-01-04</th>\n",
       "      <td>358.760010</td>\n",
       "      <td>358.760010</td>\n",
       "      <td>352.890015</td>\n",
       "      <td>355.670013</td>\n",
       "      <td>177000000</td>\n",
       "    </tr>\n",
       "    <tr>\n",
       "      <th>1990-01-05</th>\n",
       "      <td>355.670013</td>\n",
       "      <td>355.670013</td>\n",
       "      <td>351.350006</td>\n",
       "      <td>352.200012</td>\n",
       "      <td>158530000</td>\n",
       "    </tr>\n",
       "    <tr>\n",
       "      <th>1990-01-08</th>\n",
       "      <td>352.200012</td>\n",
       "      <td>354.239990</td>\n",
       "      <td>350.540009</td>\n",
       "      <td>353.790009</td>\n",
       "      <td>140110000</td>\n",
       "    </tr>\n",
       "    <tr>\n",
       "      <th>...</th>\n",
       "      <td>...</td>\n",
       "      <td>...</td>\n",
       "      <td>...</td>\n",
       "      <td>...</td>\n",
       "      <td>...</td>\n",
       "    </tr>\n",
       "    <tr>\n",
       "      <th>2023-08-21</th>\n",
       "      <td>4380.279785</td>\n",
       "      <td>4407.549805</td>\n",
       "      <td>4360.299805</td>\n",
       "      <td>4399.770020</td>\n",
       "      <td>3726850000</td>\n",
       "    </tr>\n",
       "    <tr>\n",
       "      <th>2023-08-22</th>\n",
       "      <td>4415.330078</td>\n",
       "      <td>4418.589844</td>\n",
       "      <td>4382.770020</td>\n",
       "      <td>4387.549805</td>\n",
       "      <td>3522760000</td>\n",
       "    </tr>\n",
       "    <tr>\n",
       "      <th>2023-08-23</th>\n",
       "      <td>4396.439941</td>\n",
       "      <td>4443.180176</td>\n",
       "      <td>4396.439941</td>\n",
       "      <td>4436.009766</td>\n",
       "      <td>3837270000</td>\n",
       "    </tr>\n",
       "    <tr>\n",
       "      <th>2023-08-24</th>\n",
       "      <td>4455.160156</td>\n",
       "      <td>4458.299805</td>\n",
       "      <td>4375.549805</td>\n",
       "      <td>4376.310059</td>\n",
       "      <td>3723470000</td>\n",
       "    </tr>\n",
       "    <tr>\n",
       "      <th>2023-08-25</th>\n",
       "      <td>4389.379883</td>\n",
       "      <td>4418.459961</td>\n",
       "      <td>4356.290039</td>\n",
       "      <td>4405.709961</td>\n",
       "      <td>3296180000</td>\n",
       "    </tr>\n",
       "  </tbody>\n",
       "</table>\n",
       "<p>8478 rows × 5 columns</p>\n",
       "</div>"
      ],
      "text/plain": [
       "                   Open         High          Low        Close      Volume\n",
       "Date                                                                      \n",
       "1990-01-02   353.399994   359.690002   351.980011   359.690002   162070000\n",
       "1990-01-03   359.690002   360.589996   357.890015   358.760010   192330000\n",
       "1990-01-04   358.760010   358.760010   352.890015   355.670013   177000000\n",
       "1990-01-05   355.670013   355.670013   351.350006   352.200012   158530000\n",
       "1990-01-08   352.200012   354.239990   350.540009   353.790009   140110000\n",
       "...                 ...          ...          ...          ...         ...\n",
       "2023-08-21  4380.279785  4407.549805  4360.299805  4399.770020  3726850000\n",
       "2023-08-22  4415.330078  4418.589844  4382.770020  4387.549805  3522760000\n",
       "2023-08-23  4396.439941  4443.180176  4396.439941  4436.009766  3837270000\n",
       "2023-08-24  4455.160156  4458.299805  4375.549805  4376.310059  3723470000\n",
       "2023-08-25  4389.379883  4418.459961  4356.290039  4405.709961  3296180000\n",
       "\n",
       "[8478 rows x 5 columns]"
      ]
     },
     "execution_count": 14,
     "metadata": {},
     "output_type": "execute_result"
    }
   ],
   "source": [
    "sp500"
   ]
  },
  {
   "cell_type": "markdown",
   "id": "79bfaece",
   "metadata": {},
   "source": [
    "***"
   ]
  },
  {
   "cell_type": "markdown",
   "id": "68681ffc",
   "metadata": {},
   "source": [
    "<H3 style=\"color: cadetblue\"> SOME INDICATORS</H3>"
   ]
  },
  {
   "cell_type": "markdown",
   "id": "fc6387fe",
   "metadata": {},
   "source": [
    "<H3 style=\"color:blue\">Tendance générale du S&P 500 depuis janvier 1990</H3>"
   ]
  },
  {
   "cell_type": "code",
   "execution_count": 15,
   "id": "7e5e0078",
   "metadata": {},
   "outputs": [
    {
     "data": {
      "image/png": "[encoded data removed]",
      "text/plain": [
       "<Figure size 720x432 with 1 Axes>"
      ]
     },
     "metadata": {
      "needs_background": "light"
     },
     "output_type": "display_data"
    }
   ],
   "source": [
    "plt.figure(figsize=(10, 6))\n",
    "plt.plot(sp500.index, sp500['Close'], label='Prix de clôture')\n",
    "plt.title('Tendance générale du S&P 500')\n",
    "plt.xlabel('Date')\n",
    "plt.ylabel('Prix de clôture')\n",
    "plt.legend()\n",
    "plt.show()"
   ]
  },
  {
   "cell_type": "code",
   "execution_count": 16,
   "id": "749cbd04",
   "metadata": {},
   "outputs": [],
   "source": [
    "sp500.index = pd.to_datetime(sp500.index)"
   ]
  },
  {
   "cell_type": "code",
   "execution_count": 17,
   "id": "bf5ed230",
   "metadata": {},
   "outputs": [],
   "source": [
    "interval_data = datetime(2015, 1, 1)"
   ]
  },
  {
   "cell_type": "markdown",
   "id": "ea871fcd",
   "metadata": {},
   "source": [
    "<H3 style=\"color:blue\"> Train data : </H3>"
   ]
  },
  {
   "cell_type": "code",
   "execution_count": 18,
   "id": "4f92ef07",
   "metadata": {},
   "outputs": [],
   "source": [
    "train_data = sp500[sp500.index<interval_data].Close.values"
   ]
  },
  {
   "cell_type": "code",
   "execution_count": 19,
   "id": "c4de8d2e",
   "metadata": {},
   "outputs": [],
   "source": [
    "train_data_dates = sp500[sp500.index < interval_data].index.strftime('%Y-%m-%d')"
   ]
  },
  {
   "cell_type": "code",
   "execution_count": 20,
   "id": "69d12e71",
   "metadata": {},
   "outputs": [],
   "source": [
    "scaler = MinMaxScaler(feature_range=(0, 1))\n",
    "scaled_train_data = scaler.fit_transform(train_data.reshape(-1, 1))\n",
    "\n",
    "x_train = []\n",
    "y_train = []\n",
    "\n",
    "for i in range(10, len(scaled_train_data)):\n",
    "    x_train.append(scaled_train_data[i - 10:i, 0])\n",
    "    y_train.append(scaled_train_data[i, 0])\n",
    "\n",
    "x_train, y_train = np.array(x_train), np.array(y_train)"
   ]
  },
  {
   "cell_type": "code",
   "execution_count": 21,
   "id": "871d0b21",
   "metadata": {
    "scrolled": true
   },
   "outputs": [
    {
     "data": {
      "text/plain": [
       "(6291, 10)"
      ]
     },
     "execution_count": 21,
     "metadata": {},
     "output_type": "execute_result"
    }
   ],
   "source": [
    "x_train.shape"
   ]
  },
  {
   "cell_type": "markdown",
   "id": "46607aaf",
   "metadata": {},
   "source": [
    "<H3 style=\"color:blue\"> Test data : </H3>"
   ]
  },
  {
   "cell_type": "code",
   "execution_count": 22,
   "id": "51f4fab4",
   "metadata": {},
   "outputs": [],
   "source": [
    "# Créez les données de test\n",
    "\n",
    "test_data = sp500[sp500.index>=interval_data].Close.values\n",
    "\n",
    "test_data_dates = sp500[sp500.index>=interval_data].index.strftime('%Y-%m-%d')"
   ]
  },
  {
   "cell_type": "code",
   "execution_count": 23,
   "id": "167538b7",
   "metadata": {},
   "outputs": [],
   "source": [
    "scaled_test_data = scaler.transform(test_data.reshape(-1, 1))\n",
    "\n",
    "x_test = []\n",
    "y_test = []\n",
    "\n",
    "for i in range(10, len(scaled_test_data)):\n",
    "    x_test.append(scaled_test_data[i - 10:i, 0])\n",
    "    y_test.append(scaled_test_data[i, 0])\n",
    "\n",
    "x_test, y_test = np.array(x_test), np.array(y_test)"
   ]
  },
  {
   "cell_type": "code",
   "execution_count": 24,
   "id": "4402ec39",
   "metadata": {},
   "outputs": [
    {
     "data": {
      "text/plain": [
       "Index(['2015-01-02', '2015-01-05', '2015-01-06', '2015-01-07', '2015-01-08',\n",
       "       '2015-01-09', '2015-01-12', '2015-01-13', '2015-01-14', '2015-01-15',\n",
       "       ...\n",
       "       '2023-08-14', '2023-08-15', '2023-08-16', '2023-08-17', '2023-08-18',\n",
       "       '2023-08-21', '2023-08-22', '2023-08-23', '2023-08-24', '2023-08-25'],\n",
       "      dtype='object', name='Date', length=2177)"
      ]
     },
     "execution_count": 24,
     "metadata": {},
     "output_type": "execute_result"
    }
   ],
   "source": [
    "test_data_dates"
   ]
  },
  {
   "cell_type": "code",
   "execution_count": 25,
   "id": "4339ca5d",
   "metadata": {},
   "outputs": [
    {
     "data": {
      "text/plain": [
       "(2167,)"
      ]
     },
     "execution_count": 25,
     "metadata": {},
     "output_type": "execute_result"
    }
   ],
   "source": [
    "y_test.shape"
   ]
  },
  {
   "cell_type": "markdown",
   "id": "7c4cb639",
   "metadata": {},
   "source": [
    "### models"
   ]
  },
  {
   "cell_type": "markdown",
   "id": "b5c3c6ae",
   "metadata": {},
   "source": [
    "<H3 style=\"color:cadetblue\"> LSTM : </H3>"
   ]
  },
  {
   "cell_type": "code",
   "execution_count": null,
   "id": "cf30f813",
   "metadata": {},
   "outputs": [],
   "source": [
    "model = Sequential()\n",
    "model.add(LSTM(units=50, return_sequences=True, input_shape=(x_train.shape[1], 1)))\n",
    "model.add(LSTM(units=50, return_sequences=False))\n",
    "model.add(Dropout(0.2))\n",
    "model.add(Dense(units=1))\n",
    "model.compile(optimizer='adam', loss='mean_squared_error')"
   ]
  },
  {
   "cell_type": "code",
   "execution_count": null,
   "id": "09e29d38",
   "metadata": {
    "scrolled": true
   },
   "outputs": [],
   "source": [
    "model.fit(x_train, y_train, epochs=50, batch_size=32)"
   ]
  },
  {
   "cell_type": "code",
   "execution_count": null,
   "id": "80bccecc",
   "metadata": {},
   "outputs": [],
   "source": [
    "loss = model.evaluate(x_test, y_test)\n",
    "print(f\"Loss on test data: {loss}\")"
   ]
  },
  {
   "cell_type": "code",
   "execution_count": null,
   "id": "aba706d8",
   "metadata": {},
   "outputs": [],
   "source": [
    "predictions = model.predict(x_test)"
   ]
  },
  {
   "cell_type": "code",
   "execution_count": null,
   "id": "c71ed004",
   "metadata": {},
   "outputs": [],
   "source": [
    "rmse = mean_squared_error(y_test, predictions, squared=False)\n",
    "r2 = r2_score(y_test, predictions)\n",
    "\n",
    "print(f\"RMSE: {rmse}\")\n",
    "print(f\"R-squared: {r2}\")"
   ]
  },
  {
   "cell_type": "code",
   "execution_count": null,
   "id": "856f6dea",
   "metadata": {},
   "outputs": [],
   "source": [
    "plt.figure(figsize=(12, 6))\n",
    "plt.plot(y_test, label='Données Réelles')\n",
    "plt.plot(predictions, label='Prédictions du Modèle')\n",
    "plt.legend()\n",
    "plt.title(\"Comparaison entre les Prédictions du Modèle et les Données Réelles\")\n",
    "plt.xlabel(\"Indice de Temps\")\n",
    "plt.ylabel(\"Valeur de Clôture\")\n",
    "plt.show()"
   ]
  },
  {
   "cell_type": "code",
   "execution_count": null,
   "id": "c84254f2",
   "metadata": {},
   "outputs": [],
   "source": [
    "#from matplotlib.dates import DateFormatter, MonthLocator\n",
    "\n",
    "# Filtrer les données des 12 derniers mois\n",
    "last_12_months_dates = test_data_dates[-252:]  # 252 jours correspondant à environ 12 mois\n",
    "last_12_months_real_values = y_test[-252:]\n",
    "last_12_months_predictions = predictions[-252:]"
   ]
  },
  {
   "cell_type": "code",
   "execution_count": null,
   "id": "dfa2711b",
   "metadata": {},
   "outputs": [],
   "source": [
    "# Plot des données des 12 derniers mois avec des dates mensuelles\n",
    "plt.figure(figsize=(12, 6))\n",
    "plt.plot(last_12_months_dates, last_12_months_real_values, label='Données Réelles')\n",
    "plt.plot(last_12_months_dates, last_12_months_predictions, label='Prédictions du Modèle')\n",
    "plt.legend()\n",
    "plt.title(\"Comparaison entre les Prédictions du Modèle et les Données Réelles (12 derniers mois)\")\n",
    "plt.xlabel(\"Date\")\n",
    "plt.ylabel(\"Valeur de Clôture\")\n",
    "plt.xticks(last_12_months_dates[::20], rotation=45)  # Afficher une date sur 20 pour éviter le chevauchement\n",
    "plt.tight_layout()\n",
    "plt.show()"
   ]
  },
  {
   "cell_type": "markdown",
   "id": "769592d3",
   "metadata": {},
   "source": [
    "### GRU"
   ]
  },
  {
   "cell_type": "code",
   "execution_count": null,
   "id": "4dd932a8",
   "metadata": {
    "scrolled": true
   },
   "outputs": [],
   "source": [
    "from keras.models import Sequential\n",
    "from keras.layers import GRU, Dense\n",
    "\n",
    "GRU_model = Sequential()\n",
    "GRU_model.add(GRU(units=50, return_sequences=True, input_shape=(x_train.shape[1], 1)))\n",
    "GRU_model.add(GRU(units=50, return_sequences=False))\n",
    "GRU_model.add(Dense(units=1))\n",
    "GRU_model.compile(optimizer='adam', loss='mean_squared_error')\n",
    "GRU_model.fit(x_train, y_train, epochs=50, batch_size=32)\n"
   ]
  },
  {
   "cell_type": "code",
   "execution_count": null,
   "id": "ff33c0dd",
   "metadata": {},
   "outputs": [],
   "source": [
    "loss = GRU_model.evaluate(x_test, y_test)\n",
    "print(f\"Loss on test data: {loss}\")"
   ]
  },
  {
   "cell_type": "code",
   "execution_count": null,
   "id": "d7921377",
   "metadata": {},
   "outputs": [],
   "source": [
    "GRU_predictions = GRU_model.predict(x_test)\n",
    "plt.figure(figsize=(12, 6))\n",
    "plt.plot(y_test, label='Données Réelles')\n",
    "plt.plot(GRU_predictions, label='Prédictions du Modèle')\n",
    "plt.legend()\n",
    "plt.title(\"Comparaison entre les Prédictions du Modèle et les Données Réelles\")\n",
    "plt.xlabel(\"Indice de Temps\")\n",
    "plt.ylabel(\"Valeur de Clôture\")\n",
    "plt.show()"
   ]
  },
  {
   "cell_type": "code",
   "execution_count": null,
   "id": "2756832d",
   "metadata": {},
   "outputs": [],
   "source": [
    "# Plot des données des 12 derniers mois avec des dates mensuelles\n",
    "GRU_predictions = GRU_model.predict(x_test)\n",
    "GRU_last_12_months_predictions = GRU_predictions[-252:]\n",
    "plt.figure(figsize=(12, 6))\n",
    "plt.plot(last_12_months_dates, last_12_months_real_values, label='Données Réelles')\n",
    "plt.plot(last_12_months_dates, GRU_last_12_months_predictions, label='Prédictions du Modèle')\n",
    "plt.legend()\n",
    "plt.title(\"Comparaison entre les Prédictions du Modèle et les Données Réelles (12 derniers mois)\")\n",
    "plt.xlabel(\"Date\")\n",
    "plt.ylabel(\"Valeur de Clôture\")\n",
    "plt.xticks(last_12_months_dates[::20], rotation=45)  # Afficher une date sur 20 pour éviter le chevauchement\n",
    "plt.tight_layout()\n",
    "plt.show()"
   ]
  },
  {
   "cell_type": "code",
   "execution_count": null,
   "id": "c179bd75",
   "metadata": {},
   "outputs": [],
   "source": [
    "rmse = mean_squared_error(y_test, GRU_predictions, squared=False)\n",
    "r2 = r2_score(y_test, GRU_predictions)\n",
    "\n",
    "print(f\"RMSE: {rmse}\")\n",
    "print(f\"R-squared: {r2}\")"
   ]
  },
  {
   "cell_type": "code",
   "execution_count": null,
   "id": "40634044",
   "metadata": {},
   "outputs": [],
   "source": []
  },
  {
   "cell_type": "markdown",
   "id": "07f4ce1c",
   "metadata": {},
   "source": [
    "## CNN"
   ]
  },
  {
   "cell_type": "code",
   "execution_count": null,
   "id": "2f1acc70",
   "metadata": {},
   "outputs": [],
   "source": [
    "from keras.models import Sequential\n",
    "from keras.layers import Conv1D, MaxPooling1D, Flatten, Dense\n",
    "\n",
    "input_shape = (x_train.shape[1], 1)\n",
    "num_classes = 2\n",
    "\n",
    "CNN = Sequential()\n",
    "CNN.add(Conv1D(filters=64, kernel_size=3, activation='relu', input_shape=input_shape))\n",
    "CNN.add(MaxPooling1D(pool_size=2))\n",
    "CNN.add(LSTM(units=50, return_sequences=True))\n",
    "CNN.add(Dropout(0.2))\n",
    "CNN.add(Flatten())\n",
    "CNN.add(Dense(1, activation='relu'))\n",
    "\n",
    "\n",
    "CNN.compile(optimizer='adam', loss='mean_squared_error', metrics=['accuracy'])\n",
    "CNN.fit(x_train, y_train, validation_data=(x_test, y_test), epochs=50, batch_size=32)"
   ]
  },
  {
   "cell_type": "code",
   "execution_count": null,
   "id": "fbe04bd2",
   "metadata": {},
   "outputs": [],
   "source": [
    "cnn_predicted_stock = CNN.predict(x_test)\n",
    "predictions_df = pd.DataFrame( columns=['Real', 'Predicted'])\n",
    "predictions_df['Real'] = y_test\n",
    "predictions_df['Predicted'] = cnn_predicted_stock\n",
    "\n",
    "plt.figure(figsize=(16,8))\n",
    "plt.title('Model')\n",
    "plt.xlabel('Date', fontsize=8)\n",
    "plt.ylabel('SPX', fontsize=12)\n",
    "plt.plot(predictions_df[['Real', 'Predicted']])\n",
    "plt.legend(['Val', 'Predicted'], loc='lower right')\n",
    "plt.show()"
   ]
  },
  {
   "cell_type": "code",
   "execution_count": null,
   "id": "f745d94a",
   "metadata": {},
   "outputs": [],
   "source": [
    "CNN_last_12_months_predictions = cnn_predicted_stock[-252:]"
   ]
  },
  {
   "cell_type": "code",
   "execution_count": null,
   "id": "09b09902",
   "metadata": {},
   "outputs": [],
   "source": [
    "# Plot des données des 12 derniers mois avec des dates mensuelles\n",
    "plt.figure(figsize=(12, 6))\n",
    "plt.plot(last_12_months_dates, last_12_months_real_values, label='Données Réelles')\n",
    "plt.plot(last_12_months_dates, CNN_last_12_months_predictions, label='Prédictions du Modèle')\n",
    "plt.legend()\n",
    "plt.title(\"Comparaison entre les Prédictions du Modèle et les Données Réelles (12 derniers mois)\")\n",
    "plt.xlabel(\"Date\")\n",
    "plt.ylabel(\"Valeur de Clôture\")\n",
    "plt.xticks(last_12_months_dates[::20], rotation=45)  # Afficher une date sur 20 pour éviter le chevauchement\n",
    "plt.tight_layout()\n",
    "plt.show()"
   ]
  },
  {
   "cell_type": "code",
   "execution_count": null,
   "id": "67329362",
   "metadata": {},
   "outputs": [],
   "source": [
    "score = r2_score(predictions_df['Real'], predictions_df['Predicted'])\n",
    "print(\"R-squared Score:\", score)"
   ]
  },
  {
   "cell_type": "markdown",
   "id": "a28a7449",
   "metadata": {},
   "source": [
    "### évaluation"
   ]
  },
  {
   "cell_type": "raw",
   "id": "e597dd56",
   "metadata": {},
   "source": [
    "pip install PrettyTable"
   ]
  },
  {
   "cell_type": "code",
   "execution_count": null,
   "id": "6c2becd0",
   "metadata": {},
   "outputs": [],
   "source": [
    "from prettytable import PrettyTable"
   ]
  },
  {
   "cell_type": "code",
   "execution_count": null,
   "id": "c5303215",
   "metadata": {},
   "outputs": [],
   "source": [
    "myTable = PrettyTable([\"\", \"Accuracy\", \"MSE\", \"MAE\"])"
   ]
  },
  {
   "cell_type": "code",
   "execution_count": null,
   "id": "211a883c",
   "metadata": {
    "scrolled": true
   },
   "outputs": [],
   "source": [
    "myTable.add_row([\"LSTM\", \n",
    "           str(round(r2_score(y_test, predictions),2)), \n",
    "           str(round(mean_squared_error(y_test, predictions),2)), \n",
    "           str(round(mean_absolute_error(y_test, predictions),2)),\n",
    "          ]\n",
    "         )\n",
    "myTable.add_row([\"GRU\", \n",
    "           str(round(r2_score(y_test, GRU_predictions),2)), \n",
    "           str(round(mean_squared_error(y_test, GRU_predictions),2)), \n",
    "           str(round(mean_absolute_error(y_test, GRU_predictions),2)),\n",
    "          ]\n",
    "         )\n",
    "           \n",
    "myTable.add_row([\"CNN\", \n",
    "           str(round(r2_score(y_test, cnn_predicted_stock),2)), \n",
    "           str(round(mean_squared_error(y_test, cnn_predicted_stock),2)), \n",
    "           str(round(mean_absolute_error(y_test, cnn_predicted_stock),2)),\n",
    "          ]\n",
    "         )\n",
    "print(myTable)"
   ]
  },
  {
   "cell_type": "markdown",
   "id": "55087d29",
   "metadata": {},
   "source": [
    "<H3 style=\"color: cadetblue\"> Prédiction futures </H3>"
   ]
  },
  {
   "cell_type": "code",
   "execution_count": null,
   "id": "51614908",
   "metadata": {
    "scrolled": true
   },
   "outputs": [],
   "source": [
    "\n",
    "# Date à partir de laquelle commencer l'incrémentation\n",
    "start_date = pd.to_datetime(test_data_dates[-1]) + timedelta(days=1)\n",
    "\n",
    "# Nombre de jours à prédire\n",
    "num_days_to_predict = 100  # Par exemple, pour prédire les 30 prochains jours\n",
    "\n",
    "# Création de la liste future_dates\n",
    "future_dates = [start_date + timedelta(days=i) for i in range(num_days_to_predict)]\n",
    "\n",
    "# Conversion en format de date pour l'affichage\n",
    "future_dates_str = [date.strftime('%Y-%m-%d') for date in future_dates]"
   ]
  },
  {
   "cell_type": "code",
   "execution_count": null,
   "id": "007da330",
   "metadata": {},
   "outputs": [],
   "source": [
    "x_future = x_test[-num_days_to_predict:]"
   ]
  },
  {
   "cell_type": "code",
   "execution_count": null,
   "id": "b6ee7149",
   "metadata": {},
   "outputs": [],
   "source": [
    "x_future.shape"
   ]
  },
  {
   "cell_type": "code",
   "execution_count": null,
   "id": "7c29e65a",
   "metadata": {},
   "outputs": [],
   "source": [
    "# Générer les prédictions pour les prochains jours\n",
    "predictions_future = []"
   ]
  },
  {
   "cell_type": "code",
   "execution_count": null,
   "id": "e0badc38",
   "metadata": {},
   "outputs": [],
   "source": [
    "for _ in range(num_days_to_predict):\n",
    "    #prediction = model.predict(x_future)  # Prédire le prochain jour avec LSTM\n",
    "    #prediction = GRU_model.predict(x_future)  # Prédire le prochain jour avec GRU\n",
    "    prediction = CNN.predict(x_future)  # Prédire le prochain jour avec GRU\n",
    "    \n",
    "    predictions_future.append(prediction[0, 0])  # Ajouter la valeur prédite à la liste\n",
    "    # Mettre à jour x_future avec la nouvelle prédiction pour la prochaine itération\n",
    "    x_future = np.roll(x_future, -1)\n",
    "    x_future[-1, -1] = prediction[0, 0]\n",
    "\n",
    "\n",
    "# Préparer les données de test réelles pour les prochains jours\n",
    "y_test_future = y_test[-num_days_to_predict:]"
   ]
  },
  {
   "cell_type": "code",
   "execution_count": null,
   "id": "1d0c6ea4",
   "metadata": {
    "scrolled": false
   },
   "outputs": [],
   "source": [
    "# Créer un DataFrame avec les dates et les prédictions futures\n",
    "future_df = pd.DataFrame({'Date': future_dates_str, 'Predicted': predictions_future})\n",
    "\n",
    "# Filtrer les données pour n'inclure que les dates correspondant aux 15 derniers jours de test\n",
    "future_df = future_df.tail(num_days_to_predict)\n",
    "\n",
    "# Convertir les dates en format datetime\n",
    "future_df['Date'] = pd.to_datetime(future_df['Date'])\n",
    "\n",
    "# Plot des valeurs prédites en fonction des dates\n",
    "plt.figure(figsize=(12, 6))\n",
    "plt.plot(future_df['Date'], future_df['Predicted'], marker='o', label='Prédictions futures')\n",
    "plt.xlabel('Date')\n",
    "plt.ylabel('Valeur de Clôture Prédite')\n",
    "plt.title('Prédictions Futures de la Valeur de Clôture')\n",
    "plt.legend()\n",
    "plt.xticks(rotation=45)\n",
    "plt.tight_layout()\n",
    "plt.show()"
   ]
  },
  {
   "cell_type": "markdown",
   "id": "213c87ca",
   "metadata": {},
   "source": [
    "## Stratégy"
   ]
  },
  {
   "cell_type": "code",
   "execution_count": null,
   "id": "868f46f1",
   "metadata": {},
   "outputs": [],
   "source": [
    "df = pd.DataFrame({'Date': future_df['Date'], 'Price': future_df['Predicted']})\n",
    "df.set_index('Date', inplace=True)"
   ]
  },
  {
   "cell_type": "code",
   "execution_count": null,
   "id": "66345e51",
   "metadata": {},
   "outputs": [],
   "source": [
    "# Generate sample data\n",
    "\n",
    "df = pd.DataFrame({'Date': future_df['Date'], 'Price': future_df['Predicted']})\n",
    "df.set_index('Date', inplace=True)"
   ]
  },
  {
   "cell_type": "code",
   "execution_count": null,
   "id": "3ca41ef8",
   "metadata": {},
   "outputs": [],
   "source": [
    "# Calculate moving averages\n",
    "short_window = 10\n",
    "long_window = 30\n",
    "\n",
    "df['Short_MA'] = df['Price'].rolling(window=short_window).mean()\n",
    "df['Long_MA'] = df['Price'].rolling(window=long_window).mean()\n",
    "\n",
    "# Initialize positions and signals\n",
    "df['Position'] = 0\n",
    "df['Signal'] = 0\n",
    "\n",
    "# Generate signals based on moving average crossover\n",
    "for i in range(long_window, len(df)):\n",
    "    if df['Short_MA'][i] > df['Long_MA'][i] and df['Short_MA'][i - 1] <= df['Long_MA'][i - 1]:\n",
    "        df['Signal'][i] = 1  # Buy signal\n",
    "    elif df['Short_MA'][i] < df['Long_MA'][i] and df['Short_MA'][i - 1] >= df['Long_MA'][i - 1]:\n",
    "        df['Signal'][i] = -1  # Sell signal"
   ]
  },
  {
   "cell_type": "code",
   "execution_count": null,
   "id": "c1118e61",
   "metadata": {},
   "outputs": [],
   "source": [
    "# Apply signals to positions\n",
    "position = 0\n",
    "for i in range(long_window, len(df)):\n",
    "    if df['Signal'][i] == 1:\n",
    "        position = 1\n",
    "    elif df['Signal'][i] == -1:\n",
    "        position = 0\n",
    "    df['Position'][i] = position"
   ]
  },
  {
   "cell_type": "code",
   "execution_count": null,
   "id": "32dde6cc",
   "metadata": {
    "scrolled": false
   },
   "outputs": [],
   "source": [
    "# Plotting\n",
    "plt.figure(figsize=(15, 9))\n",
    "plt.plot(df.index, df['Price'], label='Price')\n",
    "plt.plot(df.index, df['Short_MA'], label=f'Short MA ({short_window} days)')\n",
    "plt.plot(df.index, df['Long_MA'], label=f'Long MA ({long_window} days)')\n",
    "plt.plot(df[df['Signal'] == 1].index, df[df['Signal'] == 1]['Price'], '^', markersize=10, color='g', label='Buy Signal')\n",
    "plt.plot(df[df['Signal'] == -1].index, df[df['Signal'] == -1]['Price'], 'v', markersize=10, color='r', label='Sell Signal')\n",
    "plt.legend()\n",
    "plt.title('Cross Moving Average Strategy')\n",
    "plt.xlabel('Date')\n",
    "plt.ylabel('Price')\n",
    "plt.show()"
   ]
  },
  {
   "cell_type": "code",
   "execution_count": null,
   "id": "45ec8241",
   "metadata": {},
   "outputs": [],
   "source": [
    "from ipywidgets import interact, widgets"
   ]
  },
  {
   "cell_type": "code",
   "execution_count": null,
   "id": "dbfaedf9",
   "metadata": {},
   "outputs": [],
   "source": [
    "# Créez une liste pour stocker les résultats de chaque combinaison\n",
    "results = []\n",
    "\n",
    "# Créez une fonction pour appliquer la stratégie en fonction des fenêtres temporelles choisies\n",
    "def apply_strategy(long_window, short_window):\n",
    "    # Vérifier que la fenêtre long terme est plus grande que la fenêtre court terme\n",
    "    if long_window <= short_window:\n",
    "        print(\"La fenêtre long terme doit être plus grande que la fenêtre court terme.\")\n",
    "        return\n",
    "    \n",
    "    df = pd.DataFrame({'Date': future_df['Date'], 'Price': future_df['Predicted']})\n",
    "    df.set_index('Date', inplace=True)\n",
    "\n",
    "    # Calculer les moyennes mobiles à court et long terme\n",
    "    df['Short_MA'] = df['Price'].rolling(window=short_window).mean()\n",
    "    df['Long_MA'] = df['Price'].rolling(window=long_window).mean()\n",
    "\n",
    "    # Initialiser les positions et les signaux\n",
    "    df['Position'] = 0\n",
    "    df['Signal'] = 0\n",
    "\n",
    "    # Générer des signaux basés sur le croisement des moyennes mobiles\n",
    "    for i in range(long_window, len(df)):\n",
    "        if df['Short_MA'][i] > df['Long_MA'][i] and df['Short_MA'][i - 1] <= df['Long_MA'][i - 1]:\n",
    "            df['Signal'][i] = 1  # Signal d'achat\n",
    "        elif df['Short_MA'][i] < df['Long_MA'][i] and df['Short_MA'][i - 1] >= df['Long_MA'][i - 1]:\n",
    "            df['Signal'][i] = -1  # Signal de vente\n",
    "\n",
    "    # Appliquer les signaux aux positions\n",
    "    position = 0\n",
    "    for i in range(long_window, len(df)):\n",
    "        if df['Signal'][i] == 1:\n",
    "            position = 1\n",
    "        elif df['Signal'][i] == -1:\n",
    "            position = 0\n",
    "        df['Position'][i] = position\n",
    "\n",
    "    # Afficher le graphique\n",
    "    plt.figure(figsize=(15, 9))\n",
    "    plt.plot(df.index, df['Price'], label='Price')\n",
    "    plt.plot(df.index, df['Short_MA'], label=f'Short MA ({short_window} days)')\n",
    "    plt.plot(df.index, df['Long_MA'], label=f'Long MA ({long_window} days)')\n",
    "    plt.plot(df[df['Signal'] == 1].index, df[df['Signal'] == 1]['Price'], '^', markersize=10, color='g', label='Buy Signal')\n",
    "    plt.plot(df[df['Signal'] == -1].index, df[df['Signal'] == -1]['Price'], 'v', markersize=10, color='r', label=' Sell Signal')\n",
    "    plt.legend()\n",
    "    plt.title('Cross Moving Average Strategy')\n",
    "    plt.xlabel('Date')\n",
    "    plt.ylabel('Price')\n",
    "    plt.show()\n",
    "    \n",
    "    # Calculer le rendement total de la stratégie en points\n",
    "    total_return = 0\n",
    "    position = 0\n",
    "    for i in range(len(df) - 1):\n",
    "        if df['Position'][i] != position:\n",
    "            if df['Position'][i] == 1:  # Achat\n",
    "                total_return -= df['Price'][i]\n",
    "            else:  # Vente\n",
    "                total_return += df['Price'][i]\n",
    "            position = df['Position'][i]\n",
    "    \n",
    "    # Ajouter le rendement total à la liste des résultats\n",
    "    results.append({'Long_Window': long_window, 'Short_Window': short_window, 'Total_Return': total_return})"
   ]
  },
  {
   "cell_type": "code",
   "execution_count": null,
   "id": "9337c807",
   "metadata": {
    "scrolled": false
   },
   "outputs": [],
   "source": [
    "# Utilisez des widgets interactifs pour permettre à l'utilisateur de choisir les fenêtres temporelles\n",
    "interact(apply_strategy,\n",
    "         long_window=widgets.IntSlider(min=10, max=100, step=1, value=30),\n",
    "         short_window=widgets.IntSlider(min=5, max=50, step=1, value=10))\n",
    "\n",
    "# Une fois que toutes les combinaisons ont été testées, trouvez la combinaison avec le rendement total le plus élevé\n",
    "best_combination = max(results, key=lambda x: x['Total_Return'])\n",
    "\n",
    "# Affichez les résultats de chaque combinaison et la combinaison avec le meilleur rendement\n",
    "print(\"Résultats de chaque combinaison :\")\n",
    "for result in results:\n",
    "    #print(f\"Long Window: {result['Long_Window']}, Short Window: {result['Short_Window']}, initil_price: {result['initial_price']},  final_price: {result['final_price']}, Total Return: {result['Total_Return']:.2f} points\")\n",
    "    print(f\"Long Window: {result['Long_Window']}, Short Window: {result['Short_Window']}, Total Return: {result['Total_Return']:.2f} points\")\n",
    "    \n",
    "print(\"\\nLa combinaison avec le meilleur rendement :\")\n",
    "print(f\"Long Window: {best_combination['Long_Window']}, Short Window: {best_combination['Short_Window']}, Total Return: {best_combination['Total_Return']:.2f} points\")"
   ]
  },
  {
   "cell_type": "markdown",
   "id": "82f07ea4",
   "metadata": {},
   "source": [
    "## Indicateurs "
   ]
  },
  {
   "cell_type": "code",
   "execution_count": null,
   "id": "2cfb4c8e",
   "metadata": {},
   "outputs": [],
   "source": [
    "# Calculer les moyennes mobiles à court et long terme\n",
    "short_window = 12\n",
    "long_window = 26\n",
    "sp500['Short_MA'] = sp500['Close'].rolling(window=short_window).mean()\n",
    "sp500['Long_MA'] = sp500['Close'].rolling(window=long_window).mean()\n",
    "\n",
    "# Calculer le MACD Line\n",
    "sp500['MACD_Line'] = sp500['Short_MA'] - sp500['Long_MA']\n",
    "\n",
    "# Calculer la Signal Line (moyenne mobile exponentielle du MACD Line)\n",
    "signal_window = 9\n",
    "sp500['Signal_Line'] = sp500['MACD_Line'].ewm(span=signal_window, adjust=False).mean()\n",
    "\n",
    "# Calculer l'histogramme MACD\n",
    "sp500['MACD_Histogram'] = sp500['MACD_Line'] - sp500['Signal_Line']\n",
    "\n",
    "# Afficher le DataFrame avec les nouvelles colonnes calculées\n",
    "sp500[-5:]"
   ]
  },
  {
   "cell_type": "code",
   "execution_count": null,
   "id": "493c4406",
   "metadata": {},
   "outputs": [],
   "source": [
    "test_date = datetime(2023, 1, 1)"
   ]
  },
  {
   "cell_type": "code",
   "execution_count": null,
   "id": "350a4b22",
   "metadata": {},
   "outputs": [],
   "source": [
    "sp500_kpi = sp500[sp500.index>=test_date]"
   ]
  },
  {
   "cell_type": "code",
   "execution_count": null,
   "id": "f7c26f4e",
   "metadata": {},
   "outputs": [],
   "source": [
    "sp500_kpi"
   ]
  },
  {
   "cell_type": "code",
   "execution_count": null,
   "id": "7e73046d",
   "metadata": {},
   "outputs": [],
   "source": [
    "plt.figure(figsize=(10, 6))\n",
    "plt.plot(sp500_kpi.index, sp500_kpi['Close'], label='Prix de clôture')\n",
    "plt.title('Tendance générale du S&P 500')\n",
    "plt.xlabel('Date')\n",
    "plt.ylabel('Prix de clôture')\n",
    "plt.legend()\n",
    "plt.show()"
   ]
  },
  {
   "cell_type": "code",
   "execution_count": null,
   "id": "e6a29ff3",
   "metadata": {},
   "outputs": [],
   "source": [
    "import pandas as pd\n",
    "import matplotlib.pyplot as plt\n",
    "\n",
    "# Supposons que vous avez déjà chargé les données dans un DataFrame sp500 avec une colonne 'Close' contenant les prix de clôture\n",
    "df = pd.DataFrame()\n",
    "\n",
    "# Calculer les moyennes mobiles à court et long terme\n",
    "short_window = 12\n",
    "long_window = 26\n",
    "df['Short_MA'] = sp500_kpi['Close'].rolling(window=short_window).mean()\n",
    "df['Long_MA'] = sp500_kpi['Close'].rolling(window=long_window).mean()\n",
    "\n",
    "# Calculer le MACD Line\n",
    "df['MACD_Line'] = df['Short_MA'] - df['Long_MA']\n",
    "\n",
    "# Calculer la Signal Line (moyenne mobile exponentielle du MACD Line)\n",
    "signal_window = 9\n",
    "df['Signal_Line'] = df['MACD_Line'].ewm(span=signal_window, adjust=False).mean()\n",
    "\n",
    "# Calculer l'histogramme MACD\n",
    "df['MACD_Histogram'] = df['MACD_Line'] - df['Signal_Line']\n",
    "\n",
    "# Tracer le graphique du MACD avec les signaux d'achat (vert) et de vente (rouge)\n",
    "plt.figure(figsize=(12, 6))\n",
    "plt.plot(df.index, df['MACD_Line'], label='MACD Line', color='blue')\n",
    "plt.plot(df.index, df['Signal_Line'], label='Signal Line', color='orange')\n",
    "plt.bar(df.index, df['MACD_Histogram'], label='MACD Histogram', color='green')\n",
    "\n",
    "# Ajouter les signaux d'achat (vert) et de vente (rouge)\n",
    "buy_signals = df[df['MACD_Line'] > df['Signal_Line']]\n",
    "sell_signals = df[df['MACD_Line'] < df['Signal_Line']]\n",
    "plt.scatter(buy_signals.index, buy_signals['MACD_Line'], marker='^', color='green', label='Signal d\\'achat')\n",
    "plt.scatter(sell_signals.index, sell_signals['MACD_Line'], marker='v', color='red', label='Signal de vente')\n",
    "\n",
    "plt.legend()\n",
    "plt.title('Moving Average Convergence Divergence (MACD) avec Signaux d\\'Achat et de Vente')\n",
    "plt.xlabel('Date')\n",
    "plt.ylabel('Valeur MACD')\n",
    "plt.xticks(rotation=45)\n",
    "plt.tight_layout()\n",
    "plt.show()\n"
   ]
  },
  {
   "cell_type": "code",
   "execution_count": null,
   "id": "e36896d3",
   "metadata": {},
   "outputs": [],
   "source": []
  }
 ],
 "metadata": {
  "kernelspec": {
   "display_name": "Python 3",
   "language": "python",
   "name": "python3"
  },
  "language_info": {
   "codemirror_mode": {
    "name": "ipython",
    "version": 3
   },
   "file_extension": ".py",
   "mimetype": "text/x-python",
   "name": "python",
   "nbconvert_exporter": "python",
   "pygments_lexer": "ipython3",
   "version": "3.8.8"
  }
 },
 "nbformat": 4,
 "nbformat_minor": 5
}
